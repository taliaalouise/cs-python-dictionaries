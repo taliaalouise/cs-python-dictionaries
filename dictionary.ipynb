{
 "cells": [
  {
   "cell_type": "code",
   "execution_count": 4,
   "metadata": {},
   "outputs": [
    {
     "name": "stdout",
     "output_type": "stream",
     "text": [
      "{'Talia': 16, 'Tina': 47, 'Janet': 16, 'Ziyi': 16, 'Oliver': 17}\n",
      "key =  Talia value = 16\n",
      "key =  Tina value = 47\n",
      "key =  Janet value = 16\n",
      "key =  Ziyi value = 16\n",
      "key =  Oliver value = 17\n",
      "Talia   16\n",
      "Tina   47\n",
      "Janet   16\n",
      "Ziyi   16\n",
      "Oliver   17\n"
     ]
    }
   ],
   "source": [
    "# a dictionary is an unordered group of key+value pairs\n",
    "# each key should be UNIQUE (only ever one of each)\n",
    "# method of structuring data that does not require numbering that data \n",
    "\n",
    "# a dictionary of names (key) and ages (value)\n",
    "nameAgeDict = {} # create an empty dictionary \n",
    "# lets put key:value pairs \n",
    "nameAgeDict[\"Talia\"] = 16\n",
    "nameAgeDict[\"Ziyi\"] = 16\n",
    "nameAgeDict[\"Janet\"] = 16\n",
    "nameAgeDict[\"Oliver\"] = 17\n",
    "nameAgeDict[\"Tina\"] = 47\n",
    "\n",
    "print(nameAgeDict) # debug\n",
    "\n",
    "# prints out nicely\n",
    "for key in nameAgeDict:\n",
    "    print(\"key = \", key, \"value =\", nameAgeDict[key])\n",
    "    \n",
    "for key, value in nameAgeDict.items():\n",
    "    print(key,\" \", value)\n",
    "    \n",
    "    \n",
    "    \n"
   ]
  },
  {
   "cell_type": "code",
   "execution_count": 26,
   "metadata": {},
   "outputs": [
    {
     "name": "stdout",
     "output_type": "stream",
     "text": [
      "Enter your name - if it is not unique it will overwrite: talia\n",
      "Enter your eye colour: brown\n",
      "Do you want to continue...? y/n: y\n",
      "Enter your name - if it is not unique it will overwrite: shane\n",
      "Enter your eye colour: blue\n",
      "Do you want to continue...? y/n: y\n",
      "Enter your name - if it is not unique it will overwrite: louie\n",
      "Enter your eye colour: hazel\n",
      "Do you want to continue...? y/n: y\n",
      "Enter your name - if it is not unique it will overwrite: meesha\n",
      "Enter your eye colour: green\n",
      "Do you want to continue...? y/n: n\n",
      "{'louie': 'hazel', 'meesha': 'green', 'talia': 'brown', 'shane': 'blue'}\n"
     ]
    }
   ],
   "source": [
    "# eye colour dicitonary - will store users eye colour\n",
    "# will ask useer to enter eye colour\n",
    "# will do some stats - most common, least common\n",
    "\n",
    "eyeColourDict = {}\n",
    "\n",
    "stop = False # assume we dont want to stop before we even started \n",
    "while not stop:\n",
    "    \n",
    "    # ask user to enter name \n",
    "    name = input(\"Enter your name - if it is not unique it will overwrite: \")\n",
    "    # ask for eye colour \n",
    "    eyeColour = input(\"Enter your eye colour: \")\n",
    "    # put data into dictionary \n",
    "    eyeColourDict[name] = eyeColour\n",
    "    # ask user whether they wants to stop for continue \n",
    "    cont = input(\"Do you want to continue...? y/n: \").lower()\n",
    "    if cont == \"n\":\n",
    "        stop = True\n",
    "print(eyeColourDict) # debug"
   ]
  },
  {
   "cell_type": "code",
   "execution_count": 27,
   "metadata": {},
   "outputs": [
    {
     "name": "stdout",
     "output_type": "stream",
     "text": [
      "{'louie': 'hazel', 'meesha': 'green', 'talia': 'brown', 'shane': 'blue'}\n"
     ]
    }
   ],
   "source": [
    "print(eyeColourDict)"
   ]
  },
  {
   "cell_type": "code",
   "execution_count": 31,
   "metadata": {},
   "outputs": [
    {
     "name": "stdout",
     "output_type": "stream",
     "text": [
      "{'brown': 0, 'hazel': 0, 'blue': 0, 'dark brown': 0, 'green': 0}\n",
      "{'brown': 1, 'hazel': 1, 'blue': 0, 'dark brown': 0, 'green': 1}\n"
     ]
    }
   ],
   "source": [
    "countB = 0\n",
    "countDB = 0\n",
    "countGr = 0\n",
    "countBl = 0\n",
    "countH = 0\n",
    "\n",
    "eyeColour = [\"brown\", \"dark brown\", \"green\", \"blue\", \"hazel\"]\n",
    "eyeColourCountDict={}\n",
    "\n",
    "for i in range(len(eyeColour)):\n",
    "    eyeColourCountDict[eyeColour[i]  ] = 0\n",
    "print(eyeColourCountDict)\n",
    "\n",
    "for key, value in eyeColourDict.items():\n",
    "    # print(key, \" \", value)\n",
    "   \n",
    "    if value in eyeColourCountDict:\n",
    "        eyeColourCountDict[value] +=1\n",
    "        \n",
    "    if value == eyeColour[0]:\n",
    "       # countB = countB + 1\n",
    "       # eyeColourCountDict[value] += 1\n",
    "    #elif value == eyeColour[1]:\n",
    "       # countDB = countDB + 1\n",
    "        #eyeColourCountDict[value] += 1\n",
    "    #elif value == eyeColour[2]:\n",
    "        #countGr = countGr + 1 \n",
    "        #eyeColourCountDict[value] += 1\n",
    "    #elif value == eyeColour[3]:\n",
    "        #countBl = countBl + 1\n",
    "        #eyeColourCountDict[value] += 1\n",
    "    #elif value == eyeColour[4]:\n",
    "        #countH = countH + 1\n",
    "        #eyeColourCountDict[value] += 1\n",
    "        print(eyeColourCountDict)\n",
    "# print(\"There are\", countB, \"brown eyed people\")\n",
    "# print(\"There are\", countDB, \"dark brown eyed people\")\n",
    "# print(\"There are\", countGr, \"green eyed people\")\n",
    "# print(\"There are\", countBl, \"blue eyed people\")\n",
    "# print(\"There are\", countH, \"hazel eyed people\")"
   ]
  },
  {
   "cell_type": "code",
   "execution_count": null,
   "metadata": {},
   "outputs": [],
   "source": []
  },
  {
   "cell_type": "code",
   "execution_count": null,
   "metadata": {},
   "outputs": [],
   "source": []
  }
 ],
 "metadata": {
  "kernelspec": {
   "display_name": "Python 3",
   "language": "python",
   "name": "python3"
  },
  "language_info": {
   "codemirror_mode": {
    "name": "ipython",
    "version": 3
   },
   "file_extension": ".py",
   "mimetype": "text/x-python",
   "name": "python",
   "nbconvert_exporter": "python",
   "pygments_lexer": "ipython3",
   "version": "3.5.2"
  }
 },
 "nbformat": 4,
 "nbformat_minor": 2
}
